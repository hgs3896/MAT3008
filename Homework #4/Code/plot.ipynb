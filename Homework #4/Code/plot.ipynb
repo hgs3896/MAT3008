{
 "cells": [
  {
   "cell_type": "code",
   "execution_count": 1,
   "metadata": {},
   "outputs": [],
   "source": [
    "import numpy as np\n",
    "import matplotlib.pyplot as plt"
   ]
  },
  {
   "cell_type": "code",
   "execution_count": 2,
   "metadata": {},
   "outputs": [],
   "source": [
    "uniform_dist = {}"
   ]
  },
  {
   "cell_type": "code",
   "execution_count": 3,
   "metadata": {},
   "outputs": [],
   "source": [
    "uniform_dist[100] = np.array([\n",
    "    2,    1,    1,    2,    1,    2,    2,    1,    0,    2,\n",
    "    0,    0,    1,    0,    0,    0,    1,    1,    0,    0,\n",
    "    0,    1,    0,    3,    1,    0,    3,    3,    0,    0,\n",
    "    1,    2,    0,    0,    0,    1,    1,    0,    3,    0,\n",
    "    0,    4,    0,    1,    0,    0,    2,    1,    1,    1,\n",
    "    2,    3,    3,    2,    0,    1,    0,    1,    1,    1,\n",
    "    0,    0,    2,    1,    0,    2,    0,    2,    3,    0,\n",
    "    1,    0,    2,    2,    1,    2,    2,    1,    0,    0,\n",
    "    1,    0,    1,    1,    2,    0,    0,    0,    2,    2,\n",
    "    2,    2,    0,    2,    1,    0,    0,    0,    2,    1,\n",
    "])"
   ]
  },
  {
   "cell_type": "code",
   "execution_count": 16,
   "metadata": {},
   "outputs": [],
   "source": [
    "uniform_dist[1000] = [\n",
    "    13,    6,    8,    9,    5,   12,    7,   12,    9,    8, \n",
    "    10,   11,   15,    9,   14,   14,   14,    7,    6,    9, \n",
    "    10,    9,    6,   11,   11,   11,    8,   14,    9,    7, \n",
    "    2,    9,   10,    7,    9,    9,   10,   13,   19,    5, \n",
    "    9,   10,   11,   12,   14,   11,   12,    9,   12,   13, \n",
    "    7,   16,   15,   10,    8,    5,    7,   16,   13,   11, \n",
    "    11,    6,    9,   10,    6,   12,   18,   13,   12,   19, \n",
    "    12,   13,    9,    5,   10,    9,   11,    8,    5,    8, \n",
    "    8,   12,    9,   19,    8,    9,   13,    6,    7,    7, \n",
    "    6,    6,    9,   12,   11,    9,    9,   10,    9,    7,\n",
    "]"
   ]
  },
  {
   "cell_type": "code",
   "execution_count": 17,
   "metadata": {},
   "outputs": [],
   "source": [
    "uniform_dist[10000] = [\n",
    "    107,   96,  102,  100,   91,  101,  106,   88,  110,  108, \n",
    "    105,   93,   95,  104,  108,   85,  111,  115,  101,  107, \n",
    "    104,   98,  117,   97,  101,   99,   98,   85,  101,  100, \n",
    "     81,   95,  102,  107,  105,   84,  103,  104,   94,   89, \n",
    "     99,  106,   83,   87,   97,  105,   87,  101,   98,  111, \n",
    "    101,  123,  100,   86,  110,  102,   97,  105,   99,  110, \n",
    "    104,  114,   92,   88,  114,  109,   89,   83,   97,   93, \n",
    "    104,   97,   85,   88,   96,   93,  109,  103,  101,   93, \n",
    "     98,  123,  107,   80,  102,   99,  124,  115,   95,   94, \n",
    "     93,   80,   90,  112,  100,   97,   99,  106,  121,  109, \n",
    "]"
   ]
  },
  {
   "cell_type": "code",
   "execution_count": 18,
   "metadata": {},
   "outputs": [],
   "source": [
    "uniform_dist[100000] = [\n",
    "    1012,  995,  983,  931, 1016, 1055,  984, 1067,  948, 1036, \n",
    "     951,  959, 1020,  999, 1078, 1016,  989,  980,  994, 1015, \n",
    "     962,  990, 1005,  998,  978,  987,  979,  946, 1043, 1013, \n",
    "     990,  977, 1036, 1015,  988, 1002, 1005,  986,  990,  933, \n",
    "     991,  938,  979, 1022, 1008,  986, 1007, 1031, 1011, 1041, \n",
    "     975, 1035, 1039, 1020, 1044, 1016, 1022, 1048, 1033, 1006, \n",
    "    1031,  989,  971, 1013,  989,  985,  962,  958, 1025, 1006, \n",
    "     989,  933,  987, 1051, 1032,  943, 1053, 1018,  954, 1018, \n",
    "     979, 1047,  999, 1044,  984, 1019, 1003,  987,  990, 1064, \n",
    "     970,  993,  956, 1076,  972,  992,  967,  943, 1040,  965,\n",
    "]"
   ]
  },
  {
   "cell_type": "code",
   "execution_count": 43,
   "metadata": {},
   "outputs": [
    {
     "data": {
      "text/plain": [
       "<BarContainer object of 100 artists>"
      ]
     },
     "execution_count": 43,
     "metadata": {},
     "output_type": "execute_result"
    },
    {
     "data": {
      "image/png": "[encoded data removed]",
      "text/plain": [
       "<Figure size 432x288 with 1 Axes>"
      ]
     },
     "metadata": {
      "needs_background": "light"
     },
     "output_type": "display_data"
    }
   ],
   "source": [
    "plt.bar(x = np.linspace(-3, 2, 100), height = uniform_dist[100], width=0.1)"
   ]
  },
  {
   "cell_type": "code",
   "execution_count": 42,
   "metadata": {},
   "outputs": [
    {
     "data": {
      "text/plain": [
       "<BarContainer object of 100 artists>"
      ]
     },
     "execution_count": 42,
     "metadata": {},
     "output_type": "execute_result"
    },
    {
     "data": {
      "image/png": "[encoded data removed]",
      "text/plain": [
       "<Figure size 432x288 with 1 Axes>"
      ]
     },
     "metadata": {
      "needs_background": "light"
     },
     "output_type": "display_data"
    }
   ],
   "source": [
    "plt.bar(x = np.linspace(-3, 2, 100), height = uniform_dist[1000], width=0.1)"
   ]
  },
  {
   "cell_type": "code",
   "execution_count": 41,
   "metadata": {},
   "outputs": [
    {
     "data": {
      "text/plain": [
       "<BarContainer object of 100 artists>"
      ]
     },
     "execution_count": 41,
     "metadata": {},
     "output_type": "execute_result"
    },
    {
     "data": {
      "image/png": "[encoded data removed]",
      "text/plain": [
       "<Figure size 432x288 with 1 Axes>"
      ]
     },
     "metadata": {
      "needs_background": "light"
     },
     "output_type": "display_data"
    }
   ],
   "source": [
    "plt.bar(x = np.linspace(-3, 2, 100), height = uniform_dist[10000], width=0.1)"
   ]
  },
  {
   "cell_type": "code",
   "execution_count": 40,
   "metadata": {},
   "outputs": [
    {
     "data": {
      "text/plain": [
       "<BarContainer object of 100 artists>"
      ]
     },
     "execution_count": 40,
     "metadata": {},
     "output_type": "execute_result"
    },
    {
     "data": {
      "image/png": "[encoded data removed]",
      "text/plain": [
       "<Figure size 432x288 with 1 Axes>"
      ]
     },
     "metadata": {
      "needs_background": "light"
     },
     "output_type": "display_data"
    }
   ],
   "source": [
    "plt.bar(x = np.linspace(-3, 2, 100), height = uniform_dist[100000], width=0.1)"
   ]
  },
  {
   "cell_type": "code",
   "execution_count": 27,
   "metadata": {},
   "outputs": [],
   "source": [
    "gauss_dist = {}"
   ]
  },
  {
   "cell_type": "code",
   "execution_count": 28,
   "metadata": {},
   "outputs": [],
   "source": [
    "gauss_dist[100] = [\n",
    "    0,    0,    0,    0,    0,    0,    0,    0,    0,    0, \n",
    "    0,    0,    1,    1,    0,    0,    0,    0,    0,    0, \n",
    "    2,    2,    0,    0,    1,    1,    0,    2,    0,    1, \n",
    "    1,    0,    1,    0,    7,    1,    2,    5,    3,    0, \n",
    "    0,    1,    3,    4,    1,    3,    3,    4,    5,    1, \n",
    "    1,    1,    1,    0,    2,    0,    1,    3,    2,    4, \n",
    "    5,    1,    3,    1,    1,    1,    2,    2,    1,    0, \n",
    "    2,    0,    2,    0,    0,    2,    2,    0,    0,    1, \n",
    "    0,    0,    0,    0,    0,    1,    0,    0,    0,    1, \n",
    "    1,    0,    0,    0,    0,    0,    0,    0,    0,    0, \n",
    "]"
   ]
  },
  {
   "cell_type": "code",
   "execution_count": 29,
   "metadata": {},
   "outputs": [],
   "source": [
    "gauss_dist[1000] = [\n",
    "     1,    2,    0,    0,    1,    0,    1,    0,    0,    1, \n",
    "     1,    0,    0,    0,    1,    2,    4,    4,    5,    3, \n",
    "     5,    3,    8,    7,    9,    6,    8,   13,   17,    8, \n",
    "     8,   10,   12,   14,   17,   13,   20,   10,   18,   15, \n",
    "    20,   24,   20,   22,   27,   28,   34,   28,   18,   16, \n",
    "    17,   16,   24,   23,   28,   25,   29,   15,   18,   30, \n",
    "    22,   21,   18,   22,   14,   22,   12,   16,   14,   10, \n",
    "    16,   10,   11,    4,    7,    7,    7,    4,    4,   10, \n",
    "     4,    2,    2,    4,    0,    7,    1,    2,    4,    2, \n",
    "     2,    1,    1,    1,    2,    1,    1,    0,    1,    2, \n",
    "]"
   ]
  },
  {
   "cell_type": "code",
   "execution_count": 30,
   "metadata": {},
   "outputs": [],
   "source": [
    "gauss_dist[10000] = [\n",
    "     14,    6,    3,    5,    3,    3,    7,   12,   13,    8,\n",
    "     12,   22,   14,   20,   36,   29,   50,   32,   50,   42,\n",
    "     42,   57,   57,   51,   76,   86,   82,  103,  105,  114,\n",
    "    116,  164,  157,  146,  160,  167,  161,  191,  189,  183,\n",
    "    179,  196,  206,  225,  207,  254,  248,  247,  229,  231,\n",
    "    223,  242,  265,  201,  242,  238,  203,  170,  210,  213,\n",
    "    191,  202,  180,  159,  169,  175,  152,  145,  115,  108,\n",
    "    127,  101,   99,   92,   94,   74,   63,   57,   51,   48,\n",
    "     58,   40,   44,   29,   23,   31,   16,   23,   15,   17,\n",
    "     15,    6,   13,    6,   11,    5,    7,    9,    2,   11,\n",
    "]"
   ]
  },
  {
   "cell_type": "code",
   "execution_count": 31,
   "metadata": {},
   "outputs": [],
   "source": [
    "gauss_dist[100000] = [\n",
    "     173,   37,   38,   51,   67,   64,   65,   89,  112,  122, \n",
    "     136,  171,  210,  222,  261,  313,  331,  362,  394,  465, \n",
    "     486,  538,  595,  655,  764,  830,  894,  947, 1047, 1121, \n",
    "    1165, 1289, 1346, 1479, 1609, 1630, 1792, 1732, 1841, 1966, \n",
    "    2037, 2024, 2248, 2228, 2275, 2296, 2306, 2352, 2376, 2456, \n",
    "    2392, 2407, 2351, 2320, 2243, 2205, 2160, 2214, 2061, 2077, \n",
    "    1953, 1817, 1859, 1714, 1595, 1656, 1517, 1353, 1302, 1198, \n",
    "    1122, 1007,  988,  846,  839,  727,  722,  630,  543,  498, \n",
    "     454,  365,  360,  366,  268,  255,  215,  198,  180,  158, \n",
    "     119,  112,  102,   85,   76,   61,   53,   48,   44,  158,\n",
    "] "
   ]
  },
  {
   "cell_type": "code",
   "execution_count": 39,
   "metadata": {},
   "outputs": [
    {
     "data": {
      "text/plain": [
       "<BarContainer object of 100 artists>"
      ]
     },
     "execution_count": 39,
     "metadata": {},
     "output_type": "execute_result"
    },
    {
     "data": {
      "image/png": "[encoded data removed]",
      "text/plain": [
       "<Figure size 432x288 with 1 Axes>"
      ]
     },
     "metadata": {
      "needs_background": "light"
     },
     "output_type": "display_data"
    }
   ],
   "source": [
    "plt.bar(x = np.linspace(-4, 4.9, 100), height = gauss_dist[100], width=0.1)"
   ]
  },
  {
   "cell_type": "code",
   "execution_count": 38,
   "metadata": {},
   "outputs": [
    {
     "data": {
      "text/plain": [
       "<BarContainer object of 100 artists>"
      ]
     },
     "execution_count": 38,
     "metadata": {},
     "output_type": "execute_result"
    },
    {
     "data": {
      "image/png": "[encoded data removed]",
      "text/plain": [
       "<Figure size 432x288 with 1 Axes>"
      ]
     },
     "metadata": {
      "needs_background": "light"
     },
     "output_type": "display_data"
    }
   ],
   "source": [
    "plt.bar(x = np.linspace(-4, 4.9, 100), height = gauss_dist[1000], width=0.1)"
   ]
  },
  {
   "cell_type": "code",
   "execution_count": 37,
   "metadata": {},
   "outputs": [
    {
     "data": {
      "text/plain": [
       "<BarContainer object of 100 artists>"
      ]
     },
     "execution_count": 37,
     "metadata": {},
     "output_type": "execute_result"
    },
    {
     "data": {
      "image/png": "[encoded data removed]",
      "text/plain": [
       "<Figure size 432x288 with 1 Axes>"
      ]
     },
     "metadata": {
      "needs_background": "light"
     },
     "output_type": "display_data"
    }
   ],
   "source": [
    "plt.bar(x = np.linspace(-4, 4.9, 100), height = gauss_dist[10000], width=0.1)"
   ]
  },
  {
   "cell_type": "code",
   "execution_count": 36,
   "metadata": {},
   "outputs": [
    {
     "data": {
      "text/plain": [
       "<BarContainer object of 100 artists>"
      ]
     },
     "execution_count": 36,
     "metadata": {},
     "output_type": "execute_result"
    },
    {
     "data": {
      "image/png": "[encoded data removed]",
      "text/plain": [
       "<Figure size 432x288 with 1 Axes>"
      ]
     },
     "metadata": {
      "needs_background": "light"
     },
     "output_type": "display_data"
    }
   ],
   "source": [
    "plt.bar(x = np.linspace(-4, 4.9, 100), height = gauss_dist[100000], width=0.1)"
   ]
  }
 ],
 "metadata": {
  "kernelspec": {
   "display_name": "Python 3.7.12 64-bit",
   "language": "python",
   "name": "python3"
  },
  "language_info": {
   "codemirror_mode": {
    "name": "ipython",
    "version": 3
   },
   "file_extension": ".py",
   "mimetype": "text/x-python",
   "name": "python",
   "nbconvert_exporter": "python",
   "pygments_lexer": "ipython3",
   "version": "3.7.12"
  },
  "orig_nbformat": 4,
  "vscode": {
   "interpreter": {
    "hash": "cf66dbe067717ec4dbfc88b58724dc1e9939e07fb5a9f10337ed8d1270b6caf4"
   }
  }
 },
 "nbformat": 4,
 "nbformat_minor": 2
}
